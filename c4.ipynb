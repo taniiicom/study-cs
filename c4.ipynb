{
  "cells": [
    {
      "cell_type": "markdown",
      "metadata": {
        "id": "view-in-github",
        "colab_type": "text"
      },
      "source": [
        "<a href=\"https://colab.research.google.com/github/taniiicom/study-cs/blob/main/c4.ipynb\" target=\"_parent\"><img src=\"https://colab.research.google.com/assets/colab-badge.svg\" alt=\"Open In Colab\"/></a>"
      ]
    },
    {
      "cell_type": "code",
      "execution_count": null,
      "metadata": {
        "colab": {
          "base_uri": "https://localhost:8080/"
        },
        "id": "8Rwr11MOoUKw",
        "outputId": "fd3b4d50-bcdb-454e-f118-906f9080729e"
      },
      "outputs": [
        {
          "output_type": "stream",
          "name": "stdout",
          "text": [
            "*   *\n",
            " * * \n",
            "  *  \n",
            " * * \n",
            "*   *\n",
            "----\n"
          ]
        }
      ],
      "source": [
        "\"復習課題１\"\n",
        "\n",
        "s = \"\"\n",
        "for i in range(5):\n",
        "    s = \"\"\n",
        "    for j in range(5):\n",
        "        if (i == 0 or i == 4) and (j == 1 or j == 2 or j == 3):\n",
        "          s += \" \"\n",
        "        elif (i == 1 or i == 3) and (j == 0 or j == 2 or j == 4):\n",
        "          s += \" \"\n",
        "        elif (i == 2) and (j == 0 or j == 1 or j == 3 or j == 4):\n",
        "          s += \" \"\n",
        "        else:\n",
        "          s += \"*\"\n",
        "    print(s)\n",
        "\n",
        "print(\"----\")\n",
        "#or (または） コマンドを使って\n",
        "# *   *\n",
        "#  * *\n",
        "#   *\n",
        "#  * *\n",
        "# *   *\n",
        "# 上の*の並び方を出力して下さい\n",
        "\n",
        "        "
      ]
    },
    {
      "cell_type": "code",
      "execution_count": null,
      "metadata": {
        "colab": {
          "base_uri": "https://localhost:8080/"
        },
        "id": "m0EYQp9koUK0",
        "outputId": "bdd4d482-a4ac-41a1-93a6-49fb895e0fa5"
      },
      "outputs": [
        {
          "output_type": "stream",
          "name": "stdout",
          "text": [
            "ご注文をどうぞ: Coffee\n",
            "??円頂きます: 500\n",
            "おつり: 350\n"
          ]
        }
      ],
      "source": [
        "\"\"\" 復習問題2 \"\"\"\n",
        "#TODO: 商品名と支払額をinput関数で得る\n",
        "#TODO: 支払額と商品額の差額をおつりとして表示する．\n",
        "#Coffee 150円，Tea 160円，Orange 100円，Cola 120円\n",
        "\n",
        "#ここに自分のコードを記述すること\n",
        "drinks = {\n",
        "    \"Coffee\": 150,\n",
        "    \"Tea\": 160,\n",
        "    \"Orange\": 100,\n",
        "    \"Cola\": 120\n",
        "}\n",
        "\n",
        "wanted = input(\"ご注文をどうぞ: \")\n",
        "paid = int(input(\"??円頂きます: \"))\n",
        "\n",
        "rest = paid - drinks[wanted]\n",
        "\n",
        "print(\"おつり:\", rest)"
      ]
    },
    {
      "cell_type": "code",
      "execution_count": null,
      "metadata": {
        "colab": {
          "base_uri": "https://localhost:8080/"
        },
        "id": "_TNsZlZjoUK2",
        "outputId": "b9ccf6b6-c841-45c3-dbbf-f0907651c797"
      },
      "outputs": [
        {
          "output_type": "stream",
          "name": "stdout",
          "text": [
            "14\n",
            "8\n"
          ]
        }
      ],
      "source": [
        "\"\"\" 課題 1 \"\"\"\n",
        "#下記のコードのエラーを修正しなさい．\n",
        "\n",
        "def add(x, y):\n",
        "    z = x + y\n",
        "    return z\n",
        "\n",
        "x = 5\n",
        "y = 9\n",
        "z = add(x, y)\n",
        "print(z)\n",
        "\n",
        "print(add(3,5))\n"
      ]
    },
    {
      "cell_type": "code",
      "execution_count": null,
      "metadata": {
        "colab": {
          "base_uri": "https://localhost:8080/"
        },
        "id": "fRpnpGjfoUK2",
        "outputId": "805eaa18-143c-40ca-cb83-c8e584a6d7c5"
      },
      "outputs": [
        {
          "output_type": "stream",
          "name": "stdout",
          "text": [
            "first = あ, second = い, third = う\n",
            "first = あ, second = い, third = う\n",
            "first = イ, second = ロ, third = ハ\n",
            "first = イ, second = ロ, third = ハ\n"
          ]
        }
      ],
      "source": [
        "\"\"\" 確認問題 1\"\"\"\n",
        "#引数を位置で指定する場合とキーワードで指定する場合でどのように結果が変わるのか確認しなさい．\n",
        "\n",
        "def f(first, second, third):\n",
        "    print('first = {}, second = {}, third = {}'.format(first, second, third))\n",
        "    # %d:数値, %s:文字列\n",
        "    print('first = %s, second = %s, third = %s' % (first, second, third))\n",
        "\n",
        "#ここに上記のf関数を引数を位置で指定するコードを記述すること\n",
        "f(\"あ\", \"い\", \"う\")\n",
        "#ここに上記のf関数をキーワードで指定するコードを記述すること\n",
        "f(first=\"イ\", second=\"ロ\", third=\"ハ\")"
      ]
    },
    {
      "cell_type": "code",
      "execution_count": null,
      "metadata": {
        "colab": {
          "base_uri": "https://localhost:8080/"
        },
        "id": "lJAv-J2WoUK3",
        "outputId": "cfc227c9-4bda-4ac5-8675-35bd98ba4966"
      },
      "outputs": [
        {
          "name": "stdout",
          "output_type": "stream",
          "text": [
            "文を入力あいうえお\n",
            "キーワードを入力あ\n",
            "True\n",
            "文を入力あいうえお\n",
            "キーワードを入力え\n",
            "True\n",
            "文を入力あいうえお\n",
            "キーワードを入力か\n",
            "False\n",
            "文を入力stop\n"
          ]
        }
      ],
      "source": [
        "\"\"\" 課題 2 \"\"\"\n",
        "# -*- coding: utf-8 -*-\n",
        "# TODO: キーワードと文を入力とし，文の中にキーワードが含まれていれば True ，含まれていなければ False を返す関数を記述しなさい．\n",
        "# TODO: 実際に関数を呼び出すコードを記述し，動作を確認しなさい．\n",
        "\n",
        "#ここに自分のコードを記述すること．\n",
        "\n",
        "def check (sent, key):\n",
        "    if key in sent:\n",
        "        return True\n",
        "    else:\n",
        "        return False\n",
        "\n",
        "flag = 0\n",
        "\n",
        "while flag == 0:\n",
        "    sent = input(\"文を入力\")\n",
        "    key = input(\"キーワードを入力\") if sent != \"stop\" else \"stop\"\n",
        "    if sent == \"stop\" or key == \"stop\":\n",
        "        flag == 0\n",
        "        break\n",
        "    print(check(sent, key))\n"
      ]
    },
    {
      "cell_type": "code",
      "execution_count": null,
      "metadata": {
        "colab": {
          "base_uri": "https://localhost:8080/"
        },
        "id": "wnhKvrUjoUK3",
        "outputId": "d3cce353-cac1-447e-9022-b65b165cbc77"
      },
      "outputs": [
        {
          "output_type": "stream",
          "name": "stdout",
          "text": [
            "ご注文をどうぞ: Coffee\n",
            "??円頂きます: 1000\n",
            "おつり: 850\n"
          ]
        }
      ],
      "source": [
        "\"\"\" 課題 3 \"\"\"\n",
        "#復習問題２を関数を使って書き直しなさい．\n",
        "#ここに自分のコードを記述すること\n",
        "\n",
        "drinks = {\n",
        "    \"Coffee\": 150,\n",
        "    \"Tea\": 160,\n",
        "    \"Orange\": 100,\n",
        "    \"Cola\": 120\n",
        "}\n",
        "\n",
        "def order (wanted, paid):\n",
        "    return int(int(paid) - drinks[str(wanted)])\n",
        "\n",
        "print(\"おつり:\", order(input(\"ご注文をどうぞ: \"),int(input(\"??円頂きます: \"))))"
      ]
    },
    {
      "cell_type": "code",
      "execution_count": null,
      "metadata": {
        "colab": {
          "base_uri": "https://localhost:8080/"
        },
        "id": "bILECDgSoUK4",
        "outputId": "6c83de34-f7f3-4aa5-e12b-bb01e75f441f"
      },
      "outputs": [
        {
          "output_type": "stream",
          "name": "stdout",
          "text": [
            "名前をご入力くださいTaniii\n",
            "挨拶文をご入力くださいHello\n",
            "Taniiiさん，Hello\n",
            "Taniiiさん，Hello\n",
            "Taniiiさん，Hello\n",
            "名前をご入力くださいTaniiicom\n",
            "挨拶文をご入力くださいHi\n",
            "Taniiicomさん，Hi\n",
            "Taniiicomさん，Hi\n",
            "Taniiicomさん，Hi\n",
            "Taniiicomさん，Hi\n",
            "Taniiicomさん，Hi\n"
          ]
        }
      ],
      "source": [
        "\"\"\" 確認問題 2\"\"\"\n",
        "\n",
        "def greeting(name, text, count=5):\n",
        "    \"\"\"\n",
        "    Input: name　名前，text　挨拶文，count 繰返し回数（指定されなければデフォルト値）\n",
        "    \"\"\"\n",
        "    for i in range(count):\n",
        "        print(name + \"さん，\" + text)\n",
        "\n",
        "\n",
        "#上記の関数を回数を３回に指定して呼び出すコードを記述しなさい．\n",
        "greeting(input(\"名前をご入力ください\"), input(\"挨拶文をご入力ください\"), 3)\n",
        "\n",
        "#上記の関数を呼び出す際にCountを指定しなかった場合にどのような動作をするのか，コードを記述して確認しなさい．\n",
        "greeting(input(\"名前をご入力ください\"), input(\"挨拶文をご入力ください\"))\n"
      ]
    },
    {
      "cell_type": "code",
      "execution_count": null,
      "metadata": {
        "colab": {
          "base_uri": "https://localhost:8080/"
        },
        "id": "uPvoHOb1oULB",
        "outputId": "343cc71d-2543-412d-9881-567dd8969bad"
      },
      "outputs": [
        {
          "output_type": "stream",
          "name": "stdout",
          "text": [
            "f(x)の中 x =  4\n",
            "z =  4\n",
            "y =  2\n",
            "x =  3\n"
          ]
        }
      ],
      "source": [
        "\"\"\" 確認問題 3 \"\"\"\n",
        "\n",
        "def f(x): #仮引数の名前をx\n",
        "    y = 1\n",
        "    x = x + y\n",
        "    print('f(x)の中 x = ', x)\n",
        "    return x\n",
        "\n",
        "x = 3\n",
        "y = 2\n",
        "z = f(x) #xの値を実引数とする\n",
        "print('z = ', z)\n",
        "print('y = ', y)\n",
        "print('x = ', x)"
      ]
    }
  ],
  "metadata": {
    "anaconda-cloud": {},
    "celltoolbar": "Slideshow",
    "kernelspec": {
      "display_name": "Python 3",
      "language": "python",
      "name": "python3"
    },
    "language_info": {
      "codemirror_mode": {
        "name": "ipython",
        "version": 3
      },
      "file_extension": ".py",
      "mimetype": "text/x-python",
      "name": "python",
      "nbconvert_exporter": "python",
      "pygments_lexer": "ipython3",
      "version": "3.7.4"
    },
    "nbpresent": {
      "slides": {
        "9a16404c-8717-4887-94f7-c06c3ff636c9": {
          "id": "9a16404c-8717-4887-94f7-c06c3ff636c9",
          "prev": null,
          "regions": {
            "0700d609-c394-45db-97a0-dae55f34d9e7": {
              "attrs": {
                "height": 0.06332404828226552,
                "width": 0.8,
                "x": 0.1,
                "y": 0.1
              },
              "content": {
                "cell": "694afe1b-0303-458e-bb90-e3f68c578be6",
                "part": "source"
              },
              "id": "0700d609-c394-45db-97a0-dae55f34d9e7"
            },
            "119b073b-f420-46ef-86f6-6ac1e9dc61c2": {
              "attrs": {
                "height": 0.19999999999999998,
                "width": 0.4,
                "x": 0.5532729805013926,
                "y": 0.6935004642525534
              },
              "id": "119b073b-f420-46ef-86f6-6ac1e9dc61c2"
            },
            "cafb6d94-d62a-4a82-b31a-a5bf8f5da7b0": {
              "attrs": {
                "height": 0.7654596100278551,
                "width": 0.8016364902506965,
                "x": 0.10104456824512537,
                "y": 0.17539461467038064
              },
              "content": {
                "cell": "fb3022c0-b23b-4d61-bc37-0e7de87f81cd",
                "part": "whole"
              },
              "id": "cafb6d94-d62a-4a82-b31a-a5bf8f5da7b0"
            }
          }
        }
      },
      "themes": {
        "default": "b4d714b4-b71d-48b8-8f6c-8b0ce2a6b736",
        "theme": {
          "b4d714b4-b71d-48b8-8f6c-8b0ce2a6b736": {
            "backgrounds": {
              "backgroundColor": {
                "background-color": "backgroundColor",
                "id": "backgroundColor"
              }
            },
            "id": "b4d714b4-b71d-48b8-8f6c-8b0ce2a6b736",
            "palette": {
              "backgroundColor": {
                "id": "backgroundColor",
                "rgb": [
                  43,
                  43,
                  43
                ]
              },
              "headingColor": {
                "id": "headingColor",
                "rgb": [
                  238,
                  238,
                  238
                ]
              },
              "linkColor": {
                "id": "linkColor",
                "rgb": [
                  19,
                  218,
                  236
                ]
              },
              "mainColor": {
                "id": "mainColor",
                "rgb": [
                  238,
                  238,
                  238
                ]
              }
            },
            "rules": {
              "a": {
                "color": "linkColor"
              },
              "h1": {
                "color": "headingColor",
                "font-family": "Oswald",
                "font-size": 7
              },
              "h2": {
                "color": "headingColor",
                "font-family": "Oswald",
                "font-size": 5
              },
              "h3": {
                "color": "headingColor",
                "font-family": "Oswald",
                "font-size": 3.75
              },
              "h4": {
                "color": "headingColor",
                "font-family": "Oswald",
                "font-size": 3
              },
              "h5": {
                "color": "headingColor",
                "font-family": "Oswald"
              },
              "h6": {
                "color": "headingColor",
                "font-family": "Oswald"
              },
              "h7": {
                "color": "headingColor",
                "font-family": "Oswald"
              },
              "li": {
                "color": "mainColor",
                "font-family": "Lato",
                "font-size": 5
              },
              "p": {
                "color": "mainColor",
                "font-family": "Lato",
                "font-size": 5
              }
            },
            "text-base": {
              "color": "mainColor",
              "font-family": "Lato",
              "font-size": 5
            }
          }
        }
      }
    },
    "colab": {
      "provenance": [],
      "collapsed_sections": [],
      "include_colab_link": true
    }
  },
  "nbformat": 4,
  "nbformat_minor": 0
}