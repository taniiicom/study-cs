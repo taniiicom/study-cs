{
  "nbformat": 4,
  "nbformat_minor": 0,
  "metadata": {
    "colab": {
      "provenance": [],
      "collapsed_sections": [],
      "authorship_tag": "ABX9TyMb6nt6Zo//cYw8Ds5d0Mle",
      "include_colab_link": true
    },
    "kernelspec": {
      "name": "python3",
      "display_name": "Python 3"
    },
    "language_info": {
      "name": "python"
    }
  },
  "cells": [
    {
      "cell_type": "markdown",
      "metadata": {
        "id": "view-in-github",
        "colab_type": "text"
      },
      "source": [
        "<a href=\"https://colab.research.google.com/github/taniiicom/study-cs/blob/main/univ_algo.ipynb\" target=\"_parent\"><img src=\"https://colab.research.google.com/assets/colab-badge.svg\" alt=\"Open In Colab\"/></a>"
      ]
    },
    {
      "cell_type": "code",
      "execution_count": null,
      "metadata": {
        "id": "JVMDP6mI1VmR"
      },
      "outputs": [],
      "source": [
        "# 仮定より、配列にはA: nコの数が格納されている\n",
        "A = [] # A = [?]*n \n",
        "n = len(A)\n",
        "\n",
        "# 「疑似コード」は、index:1始まりであることに注意!\n",
        "for i in range(1, n+1):\n",
        "  min_index = i+1 # interim-min-index\n",
        "  for j in range(i+1, n+1):\n",
        "    if A[j] < A[min_index]:\n",
        "      min_index = j\n",
        "  d = A[i]\n",
        "  A[i] = A[min_index]\n",
        "  A[min_index] = d\n"
      ]
    },
    {
      "cell_type": "code",
      "source": [
        "# python版\n",
        "\n",
        "# 仮定より、配列にはA: nコの数が格納されている\n",
        "A = [3, 5, 4, 2, 6] # A = [?]*n\n",
        "n = len(A)\n",
        "\n",
        "# 「疑似コード」は、index:1始まりであることに注意!\n",
        "for i in range(0, n):\n",
        "  min_index = i # interim-min-index\n",
        "  for j in range(i+1, n):\n",
        "    if A[j] < A[min_index]:\n",
        "      min_index = j\n",
        "  d = A[i]\n",
        "  A[i] = A[min_index]\n",
        "  A[min_index] = d\n",
        "\n",
        "print(A)"
      ],
      "metadata": {
        "colab": {
          "base_uri": "https://localhost:8080/"
        },
        "id": "pzue0D3S5BaP",
        "outputId": "5cf266a9-bd76-463c-aa6a-dd623ea832ca"
      },
      "execution_count": null,
      "outputs": [
        {
          "output_type": "stream",
          "name": "stdout",
          "text": [
            "[2, 3, 4, 5, 6]\n"
          ]
        }
      ]
    }
  ]
}