{
  "cells": [
    {
      "cell_type": "markdown",
      "metadata": {
        "id": "view-in-github",
        "colab_type": "text"
      },
      "source": [
        "<a href=\"https://colab.research.google.com/github/taniiicom/study-cs/blob/main/c3.ipynb\" target=\"_parent\"><img src=\"https://colab.research.google.com/assets/colab-badge.svg\" alt=\"Open In Colab\"/></a>"
      ]
    },
    {
      "cell_type": "code",
      "execution_count": null,
      "metadata": {
        "colab": {
          "base_uri": "https://localhost:8080/"
        },
        "id": "Qp2kVqadoTts",
        "outputId": "7faf535d-593e-4019-b31e-ac659f4f3fa6"
      },
      "outputs": [
        {
          "output_type": "stream",
          "name": "stdout",
          "text": [
            "v: -27\n",
            "gosa: 0.01\n",
            "step: 0.001\n",
            "-2.9999999999997806\n"
          ]
        }
      ],
      "source": [
        "#練習課題 1\n",
        "\n",
        "#総当たりを用いて，数の立方根の近似値を探すプログラムを作成してください\n",
        "\n",
        "# gosa = 0.01, step = 0.001，そしてv = -27，27と28で入力し，計算が正しいかどうか確認\n",
        "# gosa = 0.01, step = 1，そしてv = 27と28で入力して，探す回数と結果を確認\n",
        "# gosa = 0.01, setp = 0.00001, そしてv = 27と28で入力して，探す回数と結果を確認\n",
        "\n",
        "# 以上の結果について考察してください\n",
        "\n",
        "v=float(input('v: '))\n",
        "gosa = float(input('gosa: '))\n",
        "step = float(input('step: '))\n",
        "if v < 0:\n",
        "    step = -step #マイナス方向で答えを探す\n",
        "\n",
        "kaisu = 0\n",
        "x = 0.0 #探す回答\n",
        "\n",
        "fx = x**3 - v\n",
        "#ここにコードを書いてください\n",
        "while abs(x**3 - v) >= gosa and abs(x**3) <= abs(v):\n",
        "  x += step\n",
        "\n",
        "if abs(x**3 - v) >= gosa:\n",
        "  print('許容誤差内の解を見つけられなかった.')\n",
        "  print('Hint: stepを小さくする.')\n",
        "else:\n",
        "  print(x)\n",
        "\n",
        "#考察\n",
        "# gosa = 0.01, step = 0.001 では、\n",
        "# v = 28 のとき、不適切な値が出力される.\n",
        "# これは、現状のstepでは、指定した許容誤差に収まる解を見つけることができなかったことを意味する."
      ]
    },
    {
      "cell_type": "code",
      "execution_count": null,
      "metadata": {
        "colab": {
          "base_uri": "https://localhost:8080/"
        },
        "id": "3aOLMyKZoTuD",
        "outputId": "8e741ef9-ddb4-4e07-8032-16405009bf33"
      },
      "outputs": [
        {
          "output_type": "stream",
          "name": "stdout",
          "text": [
            "v: -27\n",
            "gosa: 0.01\n",
            "-3.000091552734375\n"
          ]
        }
      ],
      "source": [
        "#練習課題 2\n",
        "\n",
        "#二分法を用いて，数の立方根の近似値を探すプログラムを作成してください\n",
        "\n",
        "# gosa = 0.01, v = -27，27と28で入力し，計算が正しいかどうか確認\n",
        "# gosa = 0.01, v = 27と28で入力して，探す回数と結果を確認\n",
        "\n",
        "# 練習課題１と比較して，二分法の計算効率について考察してください\n",
        "\n",
        "v=float(input('v: '))\n",
        "gosa = float(input('gosa: '))\n",
        "vp = v\n",
        "if v < 0:\n",
        "    vp = -v #まずブラス方向として解を探す\n",
        "x1 = 0.0\n",
        "x2 = vp\n",
        "xm = (x1 + x2) / 2\n",
        "fxm = xm**3 - vp\n",
        "\n",
        "while abs(fxm) > gosa:\n",
        "    xm = (x1 + x2) / 2\n",
        "    fxm = xm**3 - vp\n",
        "\n",
        "    if fxm <= 0:\n",
        "      x1 = xm\n",
        "    else:\n",
        "      x2 = xm\n",
        "\n",
        "print(xm) if v>=0 else print(-xm)\n",
        "\n",
        "#考察\n",
        "# 総当たり法に比べて、真値に近づくにつれて細かくなるので、(効率が良く)1回の入力で確実に求められる.\n"
      ]
    },
    {
      "cell_type": "code",
      "execution_count": null,
      "metadata": {
        "id": "TuXDEi7_oTuF",
        "colab": {
          "base_uri": "https://localhost:8080/"
        },
        "outputId": "6a9053f2-d994-4677-f720-f188291cf5b8"
      },
      "outputs": [
        {
          "output_type": "stream",
          "name": "stdout",
          "text": [
            "v: 27\n",
            "gosa: 0.01\n",
            "3.0000733566024924\n"
          ]
        }
      ],
      "source": [
        "#練習課題 3\n",
        "\n",
        "#ニュートン法を用いて，数の立方根の近似値を探すプログラムを作成してください\n",
        "\n",
        "# gosa = 0.01, v = -27，27と28で入力し，計算が正しいかどうか確認\n",
        "# gosa = 0.01, v = 27と28で入力して，探す回数と結果を確認\n",
        "\n",
        "# 練習課題2と比較して，二分法の計算効率について考察してください\n",
        "\n",
        "v=float(input('v: '))\n",
        "gosa = float(input('gosa: '))\n",
        "x0 = v if v>=0 else -v\n",
        "\n",
        "# ニュートン法は、無限ループになる可能性があるため、ループ回数の上限を設定しておく\n",
        "upto = 100000000\n",
        "c = 0 # counter\n",
        "\n",
        "while abs(x0**3 - v) >= gosa and c < upto: # fx0 = x0**3 - v\n",
        "    c += 1\n",
        "    x1 = x0 - (x0**3 - v) / (3 * x0**2)\n",
        "    x0 = x1\n",
        "\n",
        "print(x0)\n",
        "\n",
        "#考察\n",
        "# ニュートン法は、二分法に比べて、急激に真値へと近づいていく。しかし、ニュートン法は求めたい方程式によっては、収束しない場合がある.\n"
      ]
    },
    {
      "cell_type": "code",
      "execution_count": null,
      "metadata": {
        "colab": {
          "base_uri": "https://localhost:8080/"
        },
        "id": "Nb1EjpBnoTuH",
        "outputId": "67fda159-015a-481d-e28c-4719b4b58275"
      },
      "outputs": [
        {
          "output_type": "stream",
          "name": "stdout",
          "text": [
            "素数の検索範囲: 2～9\n",
            "{2, 3, 5, 7}\n"
          ]
        }
      ],
      "source": [
        "\"課題 1\"\n",
        "\n",
        "#入力した値 n まですべての素数を出力してください\n",
        "# n = 9, 素数 = 2, 3, 5, 7\n",
        "# n = 19, 素数 = 2, 3, 5, 7, 11, 13, 17, 19\n",
        "\n",
        "n = int(input(\"素数の検索範囲: 2～\")) #integer型として入力\n",
        "\n",
        "np = set()\n",
        "\n",
        "# hint: i を 2 から n まで，j を 2から i-1 まで，段々上げて，iをあるｊの値で割る可能なら素数ではない．\n",
        "\n",
        "for i in range(2, n+1): # [第2引数]を超えないまで\n",
        "    for j in range(2, i):\n",
        "        if (i % j) == 0:\n",
        "            np.add(i)\n",
        "\n",
        "p = set(range(2, n)) - np\n",
        "print(p)\n"
      ]
    },
    {
      "cell_type": "code",
      "execution_count": null,
      "metadata": {
        "id": "0WuZ_sM1oTuI",
        "outputId": "23771f01-dc29-4c93-cb65-7e60f076c8ca",
        "colab": {
          "base_uri": "https://localhost:8080/"
        }
      },
      "outputs": [
        {
          "output_type": "stream",
          "name": "stdout",
          "text": [
            "a: 2\n",
            "b: -3\n",
            "gosa: 0.1\n",
            "x=  1.0066217677475768 , -3.0066217677475766\n",
            "解のコスウ: 2\n"
          ]
        }
      ],
      "source": [
        "\"課題 2\"\n",
        "\n",
        "#ニュートン法を用いて，x**2 + ax + b = 0 の方程式を解くプログラムを作成してください\n",
        "# a, b, gosaはfloat型として入力\n",
        "\n",
        "# hint:\n",
        "# 二次関数: f(x) = x**2 + ax + b\n",
        "# 頂点: f'(xs) = 0, xs = -a/2\n",
        "# f(xs)によって解が存在するか，一個か，二個か判断\n",
        "# 解が一個なら，頂点がⅹ軸と接触し，頂点 xs が解となる\n",
        "# 解が二個なら，頂点が x軸の下となり，x0の初期値＝ xs + gosa として頂点の右側にある解，そしてx0の初期値＝ xs - gosaとして頂点の左側にある解を探す\n",
        "\n",
        "# gosa = 0.1, (a = 2, b = 3), (a=2, b= 1), (a=2, b= -3)で入力し，答えが正しいかどうを確認してみてください．\n",
        "\n",
        "a = float(input(\"a: \"))\n",
        "b = float(input(\"b: \"))\n",
        "gosa = float(input(\"gosa: \"))\n",
        "\n",
        "# 頂点のx座標\n",
        "xs = -a/2\n",
        "# 解のコスウ d:判別式, n:解のコスウ\n",
        "d = a**2 - 4*b\n",
        "if d > 0:\n",
        "    n = 2\n",
        "    x0 = xs + gosa\n",
        "    # ニュートン法は、無限ループになる可能性があるため、ループ回数の上限を設定しておく\n",
        "    upto = 100000000\n",
        "    c = 0 # counter\n",
        "    while abs(x0**2 + a*x0 + b) >= gosa and c < upto:\n",
        "        c += 1\n",
        "        # 2x + a = (f(x0) - 0) / (x0 - x1)\n",
        "        x1 = x0 - (x0**2 + a*x0 + b) / (2*x0 + a)\n",
        "        x0 = x1\n",
        "    xa = xs - abs(x0 - xs) if xs < x0 else xs + abs(x0 - xs)\n",
        "    print(\"x= \", x0, \",\", xa)\n",
        "elif d < 0:\n",
        "    n = 0\n",
        "    print(\"実数解なし\")\n",
        "else:\n",
        "    n = 1\n",
        "    print(\"x = \", xs)\n",
        "\n",
        "print(\"解のコスウ:\", n)"
      ]
    }
  ],
  "metadata": {
    "colab": {
      "collapsed_sections": [],
      "provenance": [],
      "include_colab_link": true
    },
    "kernelspec": {
      "display_name": "Python 3 (ipykernel)",
      "language": "python",
      "name": "python3"
    },
    "language_info": {
      "codemirror_mode": {
        "name": "ipython",
        "version": 3
      },
      "file_extension": ".py",
      "mimetype": "text/x-python",
      "name": "python",
      "nbconvert_exporter": "python",
      "pygments_lexer": "ipython3",
      "version": "3.9.12"
    }
  },
  "nbformat": 4,
  "nbformat_minor": 0
}