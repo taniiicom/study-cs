{
  "cells": [
    {
      "cell_type": "markdown",
      "metadata": {
        "id": "view-in-github",
        "colab_type": "text"
      },
      "source": [
        "<a href=\"https://colab.research.google.com/github/taniiicom/study-cs/blob/main/c2.ipynb\" target=\"_parent\"><img src=\"https://colab.research.google.com/assets/colab-badge.svg\" alt=\"Open In Colab\"/></a>"
      ]
    },
    {
      "cell_type": "code",
      "execution_count": null,
      "id": "a1f37643",
      "metadata": {
        "id": "a1f37643",
        "outputId": "f37bc231-6364-4d16-aaac-446927881ba9"
      },
      "outputs": [
        {
          "name": "stdout",
          "output_type": "stream",
          "text": [
            "200\n",
            "67.11409395973155 ,\n",
            "93.95973154362416 ,\n",
            "33.557046979865774 ,\n",
            "2.0134228187919465 ,\n",
            "3.3557046979865772 ,\n"
          ]
        }
      ],
      "source": [
        "# 課題1: チャーハンのレシピのプログラム\n",
        "\n",
        "# original\n",
        "origin = {\n",
        "    \"r\": 100,\n",
        "    \"w\": 140,\n",
        "    \"e\": 50,\n",
        "    \"s\": 3,\n",
        "    \"o\": 5\n",
        "}\n",
        "\n",
        "sum = 0\n",
        "\n",
        "for i in origin.values():\n",
        "    sum += i\n",
        "\n",
        "wish = int(input())\n",
        "need = []\n",
        "for i in origin.values():\n",
        "    need.append(i * wish / sum)\n",
        "\n",
        "for i in need:\n",
        "    print(i, \",\")"
      ]
    },
    {
      "cell_type": "code",
      "execution_count": null,
      "id": "ad99f5aa",
      "metadata": {
        "colab": {
          "base_uri": "https://localhost:8080/"
        },
        "id": "ad99f5aa",
        "outputId": "e5478311-506e-4393-b63a-b87802c4d608"
      },
      "outputs": [
        {
          "output_type": "stream",
          "name": "stdout",
          "text": [
            "1000\n",
            "3.1425916543395442\n"
          ]
        }
      ],
      "source": [
        "# 課題2: Leibniz formula\n",
        "\n",
        "n = int(input())\n",
        "pi = 0\n",
        "# counter\n",
        "x = 0\n",
        "while x <= n:\n",
        "    if x % 2:\n",
        "        y = -1\n",
        "    else:\n",
        "        y = 1\n",
        "    pi += (4*y) / (2*x+1)\n",
        "    x += 1\n",
        "\n",
        "print(pi)"
      ]
    },
    {
      "cell_type": "code",
      "execution_count": null,
      "id": "ce96c97a",
      "metadata": {
        "colab": {
          "base_uri": "https://localhost:8080/"
        },
        "id": "ce96c97a",
        "outputId": "ee264308-1bd3-492d-88b7-c44918c65f3c"
      },
      "outputs": [
        {
          "output_type": "stream",
          "name": "stdout",
          "text": [
            "1\n",
            "2\n",
            "3\n",
            "1.0 2.0 3.0\n"
          ]
        }
      ],
      "source": [
        "# 課題3: input:x,y,zの並び替え\n",
        "x = float(input())\n",
        "y = float(input())\n",
        "z = float(input())\n",
        "box = [x, y, z]\n",
        "\n",
        "if box[0] > box[1]:\n",
        "  box[0], box[1] = box[1], box[0]\n",
        "if box[1] > box[2]:\n",
        "  box[1], box[2] = box[2], box[1]\n",
        "if box[0] > box[1]:\n",
        "  box[0], box[1] = box[1], box[0]\n",
        "\n",
        "print(box[0], box[1], box[2])\n"
      ]
    },
    {
      "cell_type": "code",
      "execution_count": null,
      "id": "ea97d6bb",
      "metadata": {
        "id": "ea97d6bb",
        "colab": {
          "base_uri": "https://localhost:8080/"
        },
        "outputId": "30fb6067-12a5-4dbb-8c76-53430f2507ac"
      },
      "outputs": [
        {
          "output_type": "stream",
          "name": "stdout",
          "text": [
            "-2.4\n",
            "-1.6\n",
            "454 -0.00044081983932331426 -1.9995589856670342\n"
          ]
        }
      ],
      "source": [
        "# 課題4: x^2 + 3x + 2 = 0 の解\n",
        "# N等分\n",
        "N = 907 # prime\n",
        "a = float(input())\n",
        "b = float(input())\n",
        "\n",
        "A = 0\n",
        "# counter\n",
        "i = 1\n",
        "# 初期値 (i=1のとき)\n",
        "xb = a + ((b-a) / N) * i\n",
        "while i <= N:\n",
        "  i += 1\n",
        "  x = a + ((b-a) / N) * i\n",
        "  # x代入結果\n",
        "  f = x**2 + 3*x + 2\n",
        "  fb = xb**2 + 3*xb + 2\n",
        "  # ^^2点間でかけてマイナスになるということは、0をまたいでいるということ!\n",
        "  if f*fb <= 0:\n",
        "    A = x\n",
        "    break\n",
        "  xb = x\n",
        "\n",
        "print(i, f, x)\n"
      ]
    },
    {
      "cell_type": "code",
      "execution_count": null,
      "id": "321a568c",
      "metadata": {
        "id": "321a568c"
      },
      "outputs": [],
      "source": []
    }
  ],
  "metadata": {
    "kernelspec": {
      "display_name": "Python 3 (ipykernel)",
      "language": "python",
      "name": "python3"
    },
    "language_info": {
      "codemirror_mode": {
        "name": "ipython",
        "version": 3
      },
      "file_extension": ".py",
      "mimetype": "text/x-python",
      "name": "python",
      "nbconvert_exporter": "python",
      "pygments_lexer": "ipython3",
      "version": "3.9.12"
    },
    "colab": {
      "provenance": [],
      "collapsed_sections": [],
      "include_colab_link": true
    }
  },
  "nbformat": 4,
  "nbformat_minor": 5
}